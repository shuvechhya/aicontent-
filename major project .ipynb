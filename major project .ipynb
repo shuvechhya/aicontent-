{
 "cells": [
  {
   "cell_type": "code",
   "execution_count": 1,
   "id": "b267f0db",
   "metadata": {},
   "outputs": [],
   "source": [
    "#ui \n",
    "import pandas as pd\n",
    "import matplotlib as mat\n",
    "import tkinter as tk\n",
    "from tkinter import *\n",
    "from tkinter.ttk import Combobox\n",
    "from tkinter import filedialog\n",
    "import os\n"
   ]
  },
  {
   "cell_type": "code",
   "execution_count": 4,
   "id": "d0379cf5",
   "metadata": {},
   "outputs": [],
   "source": [
    "import tkinter as tk\n",
    "from tkinter import Text, Label, Button, WORD, GROOVE\n",
    "\n",
    "def clear_placeholder(event):\n",
    "    text_box.delete(1.0, tk.END)\n",
    "\n",
    "root = tk.Tk()\n",
    "root.title(\"AI generated text detection\")\n",
    "root.geometry(\"1000x580+200+80\")\n",
    "\n",
    "# upper label\n",
    "root.configure(bg='#FCFCFC')\n",
    "upper_frame = tk.Frame(root, bg='#CDC9A5', width=1300, height=100)\n",
    "upper_frame.place(x=0, y=0)\n",
    "\n",
    "# upper title\n",
    "label = tk.Label(upper_frame, text='DETECTOR TOOL', font='stencil 30 bold ', bg=\"#CDC9A5\")\n",
    "label.place(x=0, y=35)\n",
    "\n",
    "label1 = tk.Label(upper_frame, text='Home', font='arial 14 bold', bg=\"#CDC9A5\").place(x=800, y=40)\n",
    "label2 = tk.Label(upper_frame, text='About Us', font='arial 14 bold', bg=\"#CDC9A5\").place(x=900, y=40)\n",
    "label3 = tk.Label(upper_frame, text='FAQ', font='arial 14 bold', bg=\"#CDC9A5\").place(x=1040, y=40)\n",
    "\n",
    "text_box = Text(root, font='calibri 20', bg='white', relief=GROOVE, wrap=WORD, bd=10)\n",
    "text_box.place(x=350, y=200, width=740, height=80)\n",
    "text_box.insert(tk.END, \"add pdf file\")\n",
    "text_box.bind(\"<FocusIn>\", clear_placeholder)\n",
    "\n",
    "text_box1 = Text(root, font='calibri 20', bg='white', relief=GROOVE, wrap=WORD, bd=10)\n",
    "text_box1.place(x=350, y=400, width=740, height=200)\n",
    "text_box1.insert(tk.END, \"add text here\")\n",
    "text_box1.bind(\"<FocusIn>\", clear_placeholder)\n",
    "\n",
    "analyze_button = Button(root, text=\"Analyze text\", compound=tk.LEFT, bg='#CDC9A5', width=13, font='arial 14 bold', borderwidth='0.1c')\n",
    "analyze_button.place(x=650, y=600)\n",
    "\n",
    "#Label(root, text='AI generated text detection', font=\"calibri 20 bold \", bg='white', fg='black').place(x=0, y=180)\n",
    "#Label(root, text='The growing sophistication of AI', font=\"Arial 15 \", bg='white', fg='black').place(x=0, y=220)\n",
    "#Label(root, text='content leads to the need for the', font=\"Arial 15 \", bg='white', fg='black').place(x=0, y=260)\n",
    "#Label(root, text='development of detection tools. This', font=\"Arial 15 \", bg='white', fg='black').place(x=0, y=300)\n",
    "#Label(root, text='is intellectual dishonesty which', font=\"Arial 15 \", bg='white', fg='black').place(x=0, y=340)\n",
    "#Label(root, text='is unethical in many places. AI', font=\"Arial 15 \", bg='white', fg='black').place(x=0, y=380)\n",
    "#Label(root, text='content detection is a tool that', font=\"Arial 15 \", bg='white', fg='black').place(x=0, y=420)\n",
    "#Label(root, text='assists us in detecting AI-generated', font=\"Arial 15 \", bg='white', fg='black').place(x=0, y=460)\n",
    "#Label(root, text='content as well as plagiarism detection.', font=\"Arial 15 \", bg='white', fg='black').place(x=0, y=500)\n",
    "\n",
    "root.mainloop()\n",
    "\n"
   ]
  },
  {
   "cell_type": "code",
   "execution_count": null,
   "id": "bb47b8b6",
   "metadata": {},
   "outputs": [],
   "source": []
  },
  {
   "cell_type": "code",
   "execution_count": null,
   "id": "7ad2ddc4",
   "metadata": {},
   "outputs": [],
   "source": [
    "\n",
    "\n",
    "\n"
   ]
  },
  {
   "cell_type": "code",
   "execution_count": null,
   "id": "08df29ce",
   "metadata": {},
   "outputs": [],
   "source": []
  },
  {
   "cell_type": "code",
   "execution_count": null,
   "id": "997df485",
   "metadata": {},
   "outputs": [],
   "source": []
  }
 ],
 "metadata": {
  "kernelspec": {
   "display_name": "Python 3 (ipykernel)",
   "language": "python",
   "name": "python3"
  },
  "language_info": {
   "codemirror_mode": {
    "name": "ipython",
    "version": 3
   },
   "file_extension": ".py",
   "mimetype": "text/x-python",
   "name": "python",
   "nbconvert_exporter": "python",
   "pygments_lexer": "ipython3",
   "version": "3.10.9"
  }
 },
 "nbformat": 4,
 "nbformat_minor": 5
}
